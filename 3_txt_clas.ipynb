{
 "cells": [
  {
   "cell_type": "markdown",
   "metadata": {},
   "source": [
    "To-do:\n",
    "1. Текст был очищен только от одного мусорного элемента в качестве примера. Исслудйте данные через ноутбук или чере веб-интерфейс BigQuery на предмет других мусорных элементов в тексте, которые не несут в себе никакого особого смысла, а только создают шум в данных. Доработайте функцию очистки тектосвых данных, чтобы в нее можно было передать список ненужного мусора и разом выполнялась очистка\n",
    "2. Проведите стратифицировнную кросс-валидуцию нейросетевого классификатора https://scikit-learn.org/stable/modules/generated/sklearn.model_selection.StratifiedKFold.html\n",
    "3. Поэксперементируйте с гиперпараметрами нейросетевого классификатора, постарайтесь повысить качество его работы\n",
    "--------------------------------------------------------------------------------------------------------------------------------------------------------------------------------------------\n",
    "4. Попробуйте использовать не Word2Vec для получения векторого представления текста, а TF-IDF преобразование http://zabaykin.ru/?p=558 http://nlpx.net/archives/57\n",
    "5. Попробуйте использовать более тонко настриваемые алгоритмы нейросетей, например из этого видео https://www.youtube.com/watch?v=cPkH1k3U1c8 \n",
    "6. Реверс инжинеринг"
   ]
  },
  {
   "cell_type": "markdown",
   "metadata": {},
   "source": []
  },
  {
   "cell_type": "code",
   "execution_count": 126,
   "metadata": {},
   "outputs": [],
   "source": [
    "import warnings\n",
    "warnings.filterwarnings('ignore')\n",
    "\n",
    "from google.oauth2 import service_account\n",
    "import pandas_gbq \n",
    "\n",
    "import numpy as np\n",
    "import pandas as pd\n",
    "import math as mt\n",
    "import datetime as dt\n",
    "\n",
    "from langdetect import detect\n",
    "import re\n",
    "\n",
    "from sklearn.model_selection import train_test_split\n",
    "from sklearn.model_selection import cross_val_score\n",
    "from sklearn.model_selection import StratifiedKFold\n",
    "from sklearn.metrics import classification_report,confusion_matrix\n",
    "from gensim.models.word2vec import Word2Vec\n",
    "from sklearn.neural_network import MLPClassifier\n",
    "from sklearn.metrics import roc_curve,auc\n",
    "import matplotlib.pyplot as plt\n",
    "import collections as collect\n",
    "from sklearn.feature_extraction.text import TfidfVectorizer\n",
    "from sklearn.pipeline import Pipeline\n",
    "from sklearn.ensemble import RandomForestClassifier"
   ]
  },
  {
   "cell_type": "code",
   "execution_count": 127,
   "metadata": {},
   "outputs": [],
   "source": [
    "CREDENTIALS = service_account.Credentials.from_service_account_info({\n",
    "***\n",
    "})"
   ]
  },
  {
   "cell_type": "code",
   "execution_count": 128,
   "metadata": {},
   "outputs": [],
   "source": [
    "#funtion for getting fresh data from DWH for workload model\n",
    "\"\"\"[summary]\n",
    "Funtion for getting fresh data from BigQuery for workload scoring model\n",
    "[description]\n",
    "Credentials - google service account object with credentials data for project\n",
    "[example]\n",
    "Input: Credentials = credentials_object\n",
    "Output: description\t                                        channel\t category\tcategory_flag\n",
    "        \\nChat transcript:\\nVisitor: I want to buy wit...\tchat\t ps\t        1\n",
    "        \\nChat transcript:\\nVisitor: hell i had a prob...\tchat\t ps\t        1\n",
    "        \\nChat transcript:\\nVisitor: لا استطيع الشراء ...\t chat\t  ps\t     1\n",
    "\"\"\"\n",
    "def getDwhData(Credentials):\n",
    "    statement_bigquery_sql = \" \".join([\"select description, channel, case\",\n",
    "                                       \"when manual_category in ('payment_problem','how_to_pay','howtopay','how_to_play','paystation_error','ps_problem','ps_declined') then 'ps'\",\n",
    "                                       \"else 'other'\",\n",
    "                                       \"end as category,\",\n",
    "                                       \"case\",\n",
    "                                       \"when manual_category in ('payment_problem','how_to_pay','howtopay','how_to_play','paystation_error','ps_problem','ps_declined') then 0\",\n",
    "                                       \"else 1\",\n",
    "                                       \"end as category_flag\",\n",
    "                                       \"from `xsolla_summer_school.customer_support`\",\n",
    "                                       \"where manual_category is not null and\",\n",
    "                                       \"manual_category <> '' and\",\n",
    "                                       \"description is not null and\",\n",
    "                                       \"description <> '' and\",\n",
    "                                       \"channel is not null and\",\n",
    "                                       \"channel <> '' and\",\n",
    "                                       \"channel in ('chat','facebook')\"])\n",
    "    \n",
    "    dataframe_bigquery = pandas_gbq.read_gbq(statement_bigquery_sql,project_id='findcsystem', credentials=Credentials, dialect='standard')\n",
    "\n",
    "    return dataframe_bigquery\n",
    "\n",
    "\n",
    "\"\"\"[summary]\n",
    "Function for transform text to lower case\n",
    "[description]\n",
    "Corpus - list or array object, with text data\n",
    "[example]\n",
    "Input: Corpus = [\"Text_1\",\"Text_2\"]\n",
    "Output: [\"text_1\",\"text_2\"]\n",
    "\"\"\"\n",
    "def lowerCase(Corpus):\n",
    "    corpus = [i.lower().replace('\\n','') for i in Corpus]\n",
    "    return corpus\n",
    "\n",
    "\n",
    "\"\"\"[summary]\n",
    "Function for getting language of text\n",
    "[description]\n",
    "Corpus - list or array object, with text data\n",
    "[example]\n",
    "Input: Corpus = [\"Text_1\",\"Text_2\"]\n",
    "Output: [\"en\",\"ru\"]\n",
    "\"\"\"\n",
    "def getTextLanguage(Corpus):\n",
    "    txt_lang = []\n",
    "    for txt in Corpus:\n",
    "        try:\n",
    "            lang = detect(txt)\n",
    "            txt_lang.append(lang)\n",
    "        except:\n",
    "            lang = 'error'\n",
    "            txt_lang.append(lang)\n",
    "    \n",
    "    return txt_lang\n",
    "\n",
    "\n",
    "\"\"\"[summary]\n",
    "Function for tokenization text\n",
    "[description]\n",
    "Corpus - list or array object, with text data\n",
    "[example]\n",
    "Input: Corpus = [\"word1 word2\",\"word3 word4\"]\n",
    "Output: [[\"word1\",\"word2\"],[\"word3\",\"word4\"]]\n",
    "\"\"\"  \n",
    "def textToTokens(Corpus):\n",
    "    corpus = [i.split() for i in Corpus]\n",
    "    return corpus \n",
    "\n",
    "\n",
    "\"\"\"[summary]\n",
    "Function for clear text after garbage\n",
    "[description]\n",
    "Corpus - list or array object, with text data\n",
    "Substr - string, regular expression\n",
    "[example]\n",
    "Input: Corpus = [[\"word1\",\"word2\"],[\"word3\",\"word4\"]]\n",
    "       Substr = r'word1\n",
    "Output: [[\"word2\"],[\"word3\",\"word4\"]]\n",
    "\"\"\"  \n",
    "def clearTextAfterGarbage(Corpus, Substrlist):\n",
    "    clear_corpus = []\n",
    "    cleared_corpus = Corpus\n",
    "    for text in cleared_corpus:\n",
    "        indexes = []\n",
    "        text_len = len(text)\n",
    "        for sub in Substrlist:\n",
    "            try:\n",
    "                for i in range(0, text_len):\n",
    "                    res = re.search(sub, text[i])\n",
    "                    if res != None:\n",
    "                        indexes.append(i)\n",
    "\n",
    "                #delete garbage word from text\n",
    "                for index in indexes:\n",
    "                    del text[index]\n",
    "\n",
    "                clear_corpus.append(text)\n",
    "            except:\n",
    "                clear_corpus.append(\"error\")\n",
    "        \n",
    "        cleared_corpus = clear_corpus\n",
    "    return cleared_corpus\n",
    "\n",
    "\"\"\"[summary]\n",
    "Function for clear text from garbage\n",
    "[description]\n",
    "wordlist - list or array or series of lists or arrays with tokenazed words\n",
    "garbagelist - list of words that needs to be cleared\n",
    "[example]\n",
    "Input: wordlist = [[\"word1\",\"word2\"],[\"word3\",\"word4\"]]\n",
    "       garbagelist = [\"word1\", \"word4\"]\n",
    "Output: [[\"word2\"],[\"word4\"]]\n",
    "\"\"\"  \n",
    "def FastClear(wordlist, garbagelist): # Среднебыстрая функция очистки мусора\n",
    "    wordlist = wordlist.tolist()\n",
    "    clearing_text = []\n",
    "    i = 0\n",
    "    for text in wordlist:\n",
    "        i+=1\n",
    "        text1 = [x for x in text if x not in garbagelist]\n",
    "        if len(text1) == 0:\n",
    "            text1.append('empty')\n",
    "        clearing_text.append(text1)\n",
    "        if i % 500 == 0:\n",
    "            print(f\"Done: {i} out of {len(wordlist)}\")\n",
    "           \n",
    "    return clearing_text\n",
    "        \n",
    "\"\"\"[summary]\n",
    "Function for clear text from garbage\n",
    "[description]\n",
    "wordlist - list or array or series of lists or arrays with tokenazed words\n",
    "garbagelist - list of words that needs to be cleared\n",
    "[example]\n",
    "Input: wordlist = [[\"word1\",\"word2\"],[\"word3\",\"word4\"]]\n",
    "       garbagelist = [\"word1\", \"word4\"]\n",
    "Output: [[\"word2\"],[\"word4\"]]\n",
    "\"\"\"  \n",
    "\n",
    "def FastClear2(wordlist, garbagelist): # Очень быстрая функция очистки мусора\n",
    "    clearing_text = []\n",
    "    i = 0\n",
    "    for text in wordlist:\n",
    "        i+=1\n",
    "        text1 = set(text) - set(garbagelist)\n",
    "        if len(text1) == 0:\n",
    "            list(text1).append('empty')\n",
    "        clearing_text.append(text1)\n",
    "        if i % 500 == 0:\n",
    "            print(f\"Done: {i} out of {len(wordlist)}\")\n",
    "    return clearing_text                        \n",
    "            \n",
    "\n",
    "\"\"\"[summary]\n",
    "Build word vector by using pre-trained Word2Vec model\n",
    "[description]\n",
    "Size - lenght of vector\n",
    "Word2Vec_Model - gensim object\n",
    "\"\"\"  \n",
    "def buildWordVector(Text,Size,Word2Vec_Model):\n",
    "    vec = np.zeros(Size).reshape((1,Size))\n",
    "    count = 0.\n",
    "\n",
    "    for word in Text:\n",
    "        try:\n",
    "            vec += Word2Vec_Model[word].reshape((1,Size))\n",
    "            count += 1.\n",
    "        except KeyError:\n",
    "            continue\n",
    "    \n",
    "    if count != 0:\n",
    "        vec /= count\n",
    "    \n",
    "    return vec"
   ]
  },
  {
   "cell_type": "markdown",
   "metadata": {},
   "source": [
    "RAWDATA "
   ]
  },
  {
   "cell_type": "code",
   "execution_count": 129,
   "metadata": {},
   "outputs": [
    {
     "name": "stderr",
     "output_type": "stream",
     "text": [
      "Downloading: 100%|███████████████████████████████████████████████████████████| 23450/23450 [00:10<00:00, 2336.21rows/s]\n"
     ]
    },
    {
     "data": {
      "text/plain": [
       "(23450, 4)"
      ]
     },
     "execution_count": 129,
     "metadata": {},
     "output_type": "execute_result"
    }
   ],
   "source": [
    "#getting data from dwh\n",
    "SupportRawDataframe = getDwhData(CREDENTIALS)\n",
    "SupportRawDataframe.shape"
   ]
  },
  {
   "cell_type": "code",
   "execution_count": 130,
   "metadata": {},
   "outputs": [
    {
     "data": {
      "text/html": [
       "<div>\n",
       "<style scoped>\n",
       "    .dataframe tbody tr th:only-of-type {\n",
       "        vertical-align: middle;\n",
       "    }\n",
       "\n",
       "    .dataframe tbody tr th {\n",
       "        vertical-align: top;\n",
       "    }\n",
       "\n",
       "    .dataframe thead th {\n",
       "        text-align: right;\n",
       "    }\n",
       "</style>\n",
       "<table border=\"1\" class=\"dataframe\">\n",
       "  <thead>\n",
       "    <tr style=\"text-align: right;\">\n",
       "      <th></th>\n",
       "      <th>description</th>\n",
       "      <th>channel</th>\n",
       "      <th>category</th>\n",
       "      <th>category_flag</th>\n",
       "    </tr>\n",
       "  </thead>\n",
       "  <tbody>\n",
       "    <tr>\n",
       "      <th>0</th>\n",
       "      <td>\\nChat transcript:\\nVisitor: I want to buy wit...</td>\n",
       "      <td>chat</td>\n",
       "      <td>ps</td>\n",
       "      <td>0</td>\n",
       "    </tr>\n",
       "    <tr>\n",
       "      <th>1</th>\n",
       "      <td>\\nChat transcript:\\nVisitor: hell i had a prob...</td>\n",
       "      <td>chat</td>\n",
       "      <td>ps</td>\n",
       "      <td>0</td>\n",
       "    </tr>\n",
       "    <tr>\n",
       "      <th>2</th>\n",
       "      <td>\\nChat transcript:\\nVisitor: لا استطيع الشراء ...</td>\n",
       "      <td>chat</td>\n",
       "      <td>ps</td>\n",
       "      <td>0</td>\n",
       "    </tr>\n",
       "    <tr>\n",
       "      <th>3</th>\n",
       "      <td>\\nChat transcript:\\nVisitor: im having trouble...</td>\n",
       "      <td>chat</td>\n",
       "      <td>ps</td>\n",
       "      <td>0</td>\n",
       "    </tr>\n",
       "    <tr>\n",
       "      <th>4</th>\n",
       "      <td>\\nChat transcript:\\nVisitor: Hi\\nAna: Hello. H...</td>\n",
       "      <td>chat</td>\n",
       "      <td>ps</td>\n",
       "      <td>0</td>\n",
       "    </tr>\n",
       "    <tr>\n",
       "      <th>5</th>\n",
       "      <td>\\nChat transcript:\\nVisitor: Здраствуйте\\nAna:...</td>\n",
       "      <td>chat</td>\n",
       "      <td>ps</td>\n",
       "      <td>0</td>\n",
       "    </tr>\n",
       "    <tr>\n",
       "      <th>6</th>\n",
       "      <td>\\nChat transcript:\\nVisitor: hello\\nVisitor: w...</td>\n",
       "      <td>chat</td>\n",
       "      <td>ps</td>\n",
       "      <td>0</td>\n",
       "    </tr>\n",
       "    <tr>\n",
       "      <th>7</th>\n",
       "      <td>\\nChat transcript:\\nVisitor: not letting me bu...</td>\n",
       "      <td>chat</td>\n",
       "      <td>ps</td>\n",
       "      <td>0</td>\n",
       "    </tr>\n",
       "    <tr>\n",
       "      <th>8</th>\n",
       "      <td>\\nChat transcript:\\nVisitor: مرحبا\\nAna: Hello...</td>\n",
       "      <td>chat</td>\n",
       "      <td>ps</td>\n",
       "      <td>0</td>\n",
       "    </tr>\n",
       "    <tr>\n",
       "      <th>9</th>\n",
       "      <td>\\nChat transcript:\\nVisitor: hi im trying to b...</td>\n",
       "      <td>chat</td>\n",
       "      <td>ps</td>\n",
       "      <td>0</td>\n",
       "    </tr>\n",
       "  </tbody>\n",
       "</table>\n",
       "</div>"
      ],
      "text/plain": [
       "                                         description channel category  \\\n",
       "0  \\nChat transcript:\\nVisitor: I want to buy wit...    chat       ps   \n",
       "1  \\nChat transcript:\\nVisitor: hell i had a prob...    chat       ps   \n",
       "2  \\nChat transcript:\\nVisitor: لا استطيع الشراء ...    chat       ps   \n",
       "3  \\nChat transcript:\\nVisitor: im having trouble...    chat       ps   \n",
       "4  \\nChat transcript:\\nVisitor: Hi\\nAna: Hello. H...    chat       ps   \n",
       "5  \\nChat transcript:\\nVisitor: Здраствуйте\\nAna:...    chat       ps   \n",
       "6  \\nChat transcript:\\nVisitor: hello\\nVisitor: w...    chat       ps   \n",
       "7  \\nChat transcript:\\nVisitor: not letting me bu...    chat       ps   \n",
       "8  \\nChat transcript:\\nVisitor: مرحبا\\nAna: Hello...    chat       ps   \n",
       "9  \\nChat transcript:\\nVisitor: hi im trying to b...    chat       ps   \n",
       "\n",
       "   category_flag  \n",
       "0              0  \n",
       "1              0  \n",
       "2              0  \n",
       "3              0  \n",
       "4              0  \n",
       "5              0  \n",
       "6              0  \n",
       "7              0  \n",
       "8              0  \n",
       "9              0  "
      ]
     },
     "execution_count": 130,
     "metadata": {},
     "output_type": "execute_result"
    }
   ],
   "source": [
    "SupportRawDataframe.head(10)"
   ]
  },
  {
   "cell_type": "code",
   "execution_count": 131,
   "metadata": {},
   "outputs": [
    {
     "data": {
      "text/html": [
       "<div>\n",
       "<style scoped>\n",
       "    .dataframe tbody tr th:only-of-type {\n",
       "        vertical-align: middle;\n",
       "    }\n",
       "\n",
       "    .dataframe tbody tr th {\n",
       "        vertical-align: top;\n",
       "    }\n",
       "\n",
       "    .dataframe thead th {\n",
       "        text-align: right;\n",
       "    }\n",
       "</style>\n",
       "<table border=\"1\" class=\"dataframe\">\n",
       "  <thead>\n",
       "    <tr style=\"text-align: right;\">\n",
       "      <th></th>\n",
       "      <th>description</th>\n",
       "      <th>channel</th>\n",
       "      <th>category</th>\n",
       "      <th>category_flag</th>\n",
       "    </tr>\n",
       "  </thead>\n",
       "  <tbody>\n",
       "    <tr>\n",
       "      <th>23440</th>\n",
       "      <td>\\nChat transcript:\\nVisitor: Hello, I bought p...</td>\n",
       "      <td>chat</td>\n",
       "      <td>other</td>\n",
       "      <td>1</td>\n",
       "    </tr>\n",
       "    <tr>\n",
       "      <th>23441</th>\n",
       "      <td>\\nChat transcript:\\nVisitor: Good day\\n\\nI acc...</td>\n",
       "      <td>facebook</td>\n",
       "      <td>other</td>\n",
       "      <td>1</td>\n",
       "    </tr>\n",
       "    <tr>\n",
       "      <th>23442</th>\n",
       "      <td>\\nChat transcript:\\nVisitor: payment not going...</td>\n",
       "      <td>chat</td>\n",
       "      <td>other</td>\n",
       "      <td>1</td>\n",
       "    </tr>\n",
       "    <tr>\n",
       "      <th>23443</th>\n",
       "      <td>\\nChat transcript:\\nVisitor: Paid for faceit s...</td>\n",
       "      <td>chat</td>\n",
       "      <td>other</td>\n",
       "      <td>1</td>\n",
       "    </tr>\n",
       "    <tr>\n",
       "      <th>23444</th>\n",
       "      <td>\\nChat transcript:\\nVisitor: Hello, I am tryin...</td>\n",
       "      <td>chat</td>\n",
       "      <td>other</td>\n",
       "      <td>1</td>\n",
       "    </tr>\n",
       "    <tr>\n",
       "      <th>23445</th>\n",
       "      <td>\\nChat transcript:\\nVisitor: Hi, i made a pruc...</td>\n",
       "      <td>chat</td>\n",
       "      <td>other</td>\n",
       "      <td>1</td>\n",
       "    </tr>\n",
       "    <tr>\n",
       "      <th>23446</th>\n",
       "      <td>\\nChat transcript:\\nVisitor: Hi, how long will...</td>\n",
       "      <td>chat</td>\n",
       "      <td>other</td>\n",
       "      <td>1</td>\n",
       "    </tr>\n",
       "    <tr>\n",
       "      <th>23447</th>\n",
       "      <td>\\nChat transcript:\\nVisitor: I bought playerun...</td>\n",
       "      <td>chat</td>\n",
       "      <td>other</td>\n",
       "      <td>1</td>\n",
       "    </tr>\n",
       "    <tr>\n",
       "      <th>23448</th>\n",
       "      <td>\\nChat transcript:\\nVisitor: Good day i took t...</td>\n",
       "      <td>chat</td>\n",
       "      <td>other</td>\n",
       "      <td>1</td>\n",
       "    </tr>\n",
       "    <tr>\n",
       "      <th>23449</th>\n",
       "      <td>\\nChat transcript:\\nVisitor: hi\\nVisitor: hell...</td>\n",
       "      <td>chat</td>\n",
       "      <td>other</td>\n",
       "      <td>1</td>\n",
       "    </tr>\n",
       "  </tbody>\n",
       "</table>\n",
       "</div>"
      ],
      "text/plain": [
       "                                             description   channel category  \\\n",
       "23440  \\nChat transcript:\\nVisitor: Hello, I bought p...      chat    other   \n",
       "23441  \\nChat transcript:\\nVisitor: Good day\\n\\nI acc...  facebook    other   \n",
       "23442  \\nChat transcript:\\nVisitor: payment not going...      chat    other   \n",
       "23443  \\nChat transcript:\\nVisitor: Paid for faceit s...      chat    other   \n",
       "23444  \\nChat transcript:\\nVisitor: Hello, I am tryin...      chat    other   \n",
       "23445  \\nChat transcript:\\nVisitor: Hi, i made a pruc...      chat    other   \n",
       "23446  \\nChat transcript:\\nVisitor: Hi, how long will...      chat    other   \n",
       "23447  \\nChat transcript:\\nVisitor: I bought playerun...      chat    other   \n",
       "23448  \\nChat transcript:\\nVisitor: Good day i took t...      chat    other   \n",
       "23449  \\nChat transcript:\\nVisitor: hi\\nVisitor: hell...      chat    other   \n",
       "\n",
       "       category_flag  \n",
       "23440              1  \n",
       "23441              1  \n",
       "23442              1  \n",
       "23443              1  \n",
       "23444              1  \n",
       "23445              1  \n",
       "23446              1  \n",
       "23447              1  \n",
       "23448              1  \n",
       "23449              1  "
      ]
     },
     "execution_count": 131,
     "metadata": {},
     "output_type": "execute_result"
    }
   ],
   "source": [
    "SupportRawDataframe.tail(10)"
   ]
  },
  {
   "cell_type": "markdown",
   "metadata": {},
   "source": [
    "DATA PREPROC"
   ]
  },
  {
   "cell_type": "code",
   "execution_count": 132,
   "metadata": {},
   "outputs": [],
   "source": [
    "#transform text to lower case\n",
    "corpus = SupportRawDataframe.description\n",
    "corpus.astype('str')\n",
    "\n",
    "corpus = lowerCase(corpus)\n",
    "\n",
    "#getting language for text corpus\n",
    "corpus_lang = getTextLanguage(corpus)"
   ]
  },
  {
   "cell_type": "code",
   "execution_count": 133,
   "metadata": {},
   "outputs": [],
   "source": [
    "#new dataframe with texts in lower case, without /n symbol and with lang for text\n",
    "SupportRawDataframe['description'] = corpus\n",
    "SupportRawDataframe['lang'] = corpus_lang"
   ]
  },
  {
   "cell_type": "code",
   "execution_count": 134,
   "metadata": {},
   "outputs": [
    {
     "data": {
      "text/html": [
       "<div>\n",
       "<style scoped>\n",
       "    .dataframe tbody tr th:only-of-type {\n",
       "        vertical-align: middle;\n",
       "    }\n",
       "\n",
       "    .dataframe tbody tr th {\n",
       "        vertical-align: top;\n",
       "    }\n",
       "\n",
       "    .dataframe thead th {\n",
       "        text-align: right;\n",
       "    }\n",
       "</style>\n",
       "<table border=\"1\" class=\"dataframe\">\n",
       "  <thead>\n",
       "    <tr style=\"text-align: right;\">\n",
       "      <th></th>\n",
       "      <th>description</th>\n",
       "      <th>channel</th>\n",
       "      <th>category</th>\n",
       "      <th>category_flag</th>\n",
       "      <th>lang</th>\n",
       "    </tr>\n",
       "  </thead>\n",
       "  <tbody>\n",
       "    <tr>\n",
       "      <th>0</th>\n",
       "      <td>chat transcript:visitor: i want to buy with pa...</td>\n",
       "      <td>chat</td>\n",
       "      <td>ps</td>\n",
       "      <td>0</td>\n",
       "      <td>en</td>\n",
       "    </tr>\n",
       "    <tr>\n",
       "      <th>1</th>\n",
       "      <td>chat transcript:visitor: hell i had a problem ...</td>\n",
       "      <td>chat</td>\n",
       "      <td>ps</td>\n",
       "      <td>0</td>\n",
       "      <td>en</td>\n",
       "    </tr>\n",
       "    <tr>\n",
       "      <th>2</th>\n",
       "      <td>chat transcript:visitor: لا استطيع الشراء ومعل...</td>\n",
       "      <td>chat</td>\n",
       "      <td>ps</td>\n",
       "      <td>0</td>\n",
       "      <td>en</td>\n",
       "    </tr>\n",
       "    <tr>\n",
       "      <th>3</th>\n",
       "      <td>chat transcript:visitor: im having trouble wit...</td>\n",
       "      <td>chat</td>\n",
       "      <td>ps</td>\n",
       "      <td>0</td>\n",
       "      <td>en</td>\n",
       "    </tr>\n",
       "    <tr>\n",
       "      <th>4</th>\n",
       "      <td>chat transcript:visitor: hiana: hello. how can...</td>\n",
       "      <td>chat</td>\n",
       "      <td>ps</td>\n",
       "      <td>0</td>\n",
       "      <td>en</td>\n",
       "    </tr>\n",
       "    <tr>\n",
       "      <th>5</th>\n",
       "      <td>chat transcript:visitor: здраствуйтеana: здрав...</td>\n",
       "      <td>chat</td>\n",
       "      <td>ps</td>\n",
       "      <td>0</td>\n",
       "      <td>ru</td>\n",
       "    </tr>\n",
       "    <tr>\n",
       "      <th>6</th>\n",
       "      <td>chat transcript:visitor: hellovisitor: why i c...</td>\n",
       "      <td>chat</td>\n",
       "      <td>ps</td>\n",
       "      <td>0</td>\n",
       "      <td>en</td>\n",
       "    </tr>\n",
       "    <tr>\n",
       "      <th>7</th>\n",
       "      <td>chat transcript:visitor: not letting me buy an...</td>\n",
       "      <td>chat</td>\n",
       "      <td>ps</td>\n",
       "      <td>0</td>\n",
       "      <td>en</td>\n",
       "    </tr>\n",
       "    <tr>\n",
       "      <th>8</th>\n",
       "      <td>chat transcript:visitor: مرحباana: hello!visit...</td>\n",
       "      <td>chat</td>\n",
       "      <td>ps</td>\n",
       "      <td>0</td>\n",
       "      <td>en</td>\n",
       "    </tr>\n",
       "    <tr>\n",
       "      <th>9</th>\n",
       "      <td>chat transcript:visitor: hi im trying to buy v...</td>\n",
       "      <td>chat</td>\n",
       "      <td>ps</td>\n",
       "      <td>0</td>\n",
       "      <td>en</td>\n",
       "    </tr>\n",
       "  </tbody>\n",
       "</table>\n",
       "</div>"
      ],
      "text/plain": [
       "                                         description channel category  \\\n",
       "0  chat transcript:visitor: i want to buy with pa...    chat       ps   \n",
       "1  chat transcript:visitor: hell i had a problem ...    chat       ps   \n",
       "2  chat transcript:visitor: لا استطيع الشراء ومعل...    chat       ps   \n",
       "3  chat transcript:visitor: im having trouble wit...    chat       ps   \n",
       "4  chat transcript:visitor: hiana: hello. how can...    chat       ps   \n",
       "5  chat transcript:visitor: здраствуйтеana: здрав...    chat       ps   \n",
       "6  chat transcript:visitor: hellovisitor: why i c...    chat       ps   \n",
       "7  chat transcript:visitor: not letting me buy an...    chat       ps   \n",
       "8  chat transcript:visitor: مرحباana: hello!visit...    chat       ps   \n",
       "9  chat transcript:visitor: hi im trying to buy v...    chat       ps   \n",
       "\n",
       "   category_flag lang  \n",
       "0              0   en  \n",
       "1              0   en  \n",
       "2              0   en  \n",
       "3              0   en  \n",
       "4              0   en  \n",
       "5              0   ru  \n",
       "6              0   en  \n",
       "7              0   en  \n",
       "8              0   en  \n",
       "9              0   en  "
      ]
     },
     "execution_count": 134,
     "metadata": {},
     "output_type": "execute_result"
    }
   ],
   "source": [
    "SupportRawDataframe.head(10)"
   ]
  },
  {
   "cell_type": "code",
   "execution_count": 135,
   "metadata": {},
   "outputs": [
    {
     "data": {
      "text/html": [
       "<div>\n",
       "<style scoped>\n",
       "    .dataframe tbody tr th:only-of-type {\n",
       "        vertical-align: middle;\n",
       "    }\n",
       "\n",
       "    .dataframe tbody tr th {\n",
       "        vertical-align: top;\n",
       "    }\n",
       "\n",
       "    .dataframe thead th {\n",
       "        text-align: right;\n",
       "    }\n",
       "</style>\n",
       "<table border=\"1\" class=\"dataframe\">\n",
       "  <thead>\n",
       "    <tr style=\"text-align: right;\">\n",
       "      <th></th>\n",
       "      <th>description</th>\n",
       "      <th>channel</th>\n",
       "      <th>category</th>\n",
       "      <th>category_flag</th>\n",
       "      <th>lang</th>\n",
       "    </tr>\n",
       "  </thead>\n",
       "  <tbody>\n",
       "    <tr>\n",
       "      <th>23440</th>\n",
       "      <td>chat transcript:visitor: hello, i bought pubg ...</td>\n",
       "      <td>chat</td>\n",
       "      <td>other</td>\n",
       "      <td>1</td>\n",
       "      <td>en</td>\n",
       "    </tr>\n",
       "    <tr>\n",
       "      <th>23441</th>\n",
       "      <td>chat transcript:visitor: good dayi accidentall...</td>\n",
       "      <td>facebook</td>\n",
       "      <td>other</td>\n",
       "      <td>1</td>\n",
       "      <td>en</td>\n",
       "    </tr>\n",
       "    <tr>\n",
       "      <th>23442</th>\n",
       "      <td>chat transcript:visitor: payment not going thr...</td>\n",
       "      <td>chat</td>\n",
       "      <td>other</td>\n",
       "      <td>1</td>\n",
       "      <td>en</td>\n",
       "    </tr>\n",
       "    <tr>\n",
       "      <th>23443</th>\n",
       "      <td>chat transcript:visitor: paid for faceit subsc...</td>\n",
       "      <td>chat</td>\n",
       "      <td>other</td>\n",
       "      <td>1</td>\n",
       "      <td>en</td>\n",
       "    </tr>\n",
       "    <tr>\n",
       "      <th>23444</th>\n",
       "      <td>chat transcript:visitor: hello, i am trying to...</td>\n",
       "      <td>chat</td>\n",
       "      <td>other</td>\n",
       "      <td>1</td>\n",
       "      <td>en</td>\n",
       "    </tr>\n",
       "    <tr>\n",
       "      <th>23445</th>\n",
       "      <td>chat transcript:visitor: hi, i made a pruchase...</td>\n",
       "      <td>chat</td>\n",
       "      <td>other</td>\n",
       "      <td>1</td>\n",
       "      <td>en</td>\n",
       "    </tr>\n",
       "    <tr>\n",
       "      <th>23446</th>\n",
       "      <td>chat transcript:visitor: hi, how long will it ...</td>\n",
       "      <td>chat</td>\n",
       "      <td>other</td>\n",
       "      <td>1</td>\n",
       "      <td>en</td>\n",
       "    </tr>\n",
       "    <tr>\n",
       "      <th>23447</th>\n",
       "      <td>chat transcript:visitor: i bought playerunknow...</td>\n",
       "      <td>chat</td>\n",
       "      <td>other</td>\n",
       "      <td>1</td>\n",
       "      <td>en</td>\n",
       "    </tr>\n",
       "    <tr>\n",
       "      <th>23448</th>\n",
       "      <td>chat transcript:visitor: good day i took the w...</td>\n",
       "      <td>chat</td>\n",
       "      <td>other</td>\n",
       "      <td>1</td>\n",
       "      <td>en</td>\n",
       "    </tr>\n",
       "    <tr>\n",
       "      <th>23449</th>\n",
       "      <td>chat transcript:visitor: hivisitor: hellovisit...</td>\n",
       "      <td>chat</td>\n",
       "      <td>other</td>\n",
       "      <td>1</td>\n",
       "      <td>en</td>\n",
       "    </tr>\n",
       "  </tbody>\n",
       "</table>\n",
       "</div>"
      ],
      "text/plain": [
       "                                             description   channel category  \\\n",
       "23440  chat transcript:visitor: hello, i bought pubg ...      chat    other   \n",
       "23441  chat transcript:visitor: good dayi accidentall...  facebook    other   \n",
       "23442  chat transcript:visitor: payment not going thr...      chat    other   \n",
       "23443  chat transcript:visitor: paid for faceit subsc...      chat    other   \n",
       "23444  chat transcript:visitor: hello, i am trying to...      chat    other   \n",
       "23445  chat transcript:visitor: hi, i made a pruchase...      chat    other   \n",
       "23446  chat transcript:visitor: hi, how long will it ...      chat    other   \n",
       "23447  chat transcript:visitor: i bought playerunknow...      chat    other   \n",
       "23448  chat transcript:visitor: good day i took the w...      chat    other   \n",
       "23449  chat transcript:visitor: hivisitor: hellovisit...      chat    other   \n",
       "\n",
       "       category_flag lang  \n",
       "23440              1   en  \n",
       "23441              1   en  \n",
       "23442              1   en  \n",
       "23443              1   en  \n",
       "23444              1   en  \n",
       "23445              1   en  \n",
       "23446              1   en  \n",
       "23447              1   en  \n",
       "23448              1   en  \n",
       "23449              1   en  "
      ]
     },
     "execution_count": 135,
     "metadata": {},
     "output_type": "execute_result"
    }
   ],
   "source": [
    "SupportRawDataframe.tail(10)"
   ]
  },
  {
   "cell_type": "code",
   "execution_count": 136,
   "metadata": {},
   "outputs": [
    {
     "data": {
      "text/html": [
       "<div>\n",
       "<style scoped>\n",
       "    .dataframe tbody tr th:only-of-type {\n",
       "        vertical-align: middle;\n",
       "    }\n",
       "\n",
       "    .dataframe tbody tr th {\n",
       "        vertical-align: top;\n",
       "    }\n",
       "\n",
       "    .dataframe thead th {\n",
       "        text-align: right;\n",
       "    }\n",
       "</style>\n",
       "<table border=\"1\" class=\"dataframe\">\n",
       "  <thead>\n",
       "    <tr style=\"text-align: right;\">\n",
       "      <th></th>\n",
       "      <th>description</th>\n",
       "      <th>channel</th>\n",
       "      <th>category</th>\n",
       "      <th>category_flag</th>\n",
       "      <th>lang</th>\n",
       "    </tr>\n",
       "  </thead>\n",
       "  <tbody>\n",
       "    <tr>\n",
       "      <th>0</th>\n",
       "      <td>chat transcript:visitor: i want to buy with pa...</td>\n",
       "      <td>chat</td>\n",
       "      <td>ps</td>\n",
       "      <td>0</td>\n",
       "      <td>en</td>\n",
       "    </tr>\n",
       "    <tr>\n",
       "      <th>1</th>\n",
       "      <td>chat transcript:visitor: hell i had a problem ...</td>\n",
       "      <td>chat</td>\n",
       "      <td>ps</td>\n",
       "      <td>0</td>\n",
       "      <td>en</td>\n",
       "    </tr>\n",
       "    <tr>\n",
       "      <th>2</th>\n",
       "      <td>chat transcript:visitor: لا استطيع الشراء ومعل...</td>\n",
       "      <td>chat</td>\n",
       "      <td>ps</td>\n",
       "      <td>0</td>\n",
       "      <td>en</td>\n",
       "    </tr>\n",
       "    <tr>\n",
       "      <th>3</th>\n",
       "      <td>chat transcript:visitor: im having trouble wit...</td>\n",
       "      <td>chat</td>\n",
       "      <td>ps</td>\n",
       "      <td>0</td>\n",
       "      <td>en</td>\n",
       "    </tr>\n",
       "    <tr>\n",
       "      <th>4</th>\n",
       "      <td>chat transcript:visitor: hiana: hello. how can...</td>\n",
       "      <td>chat</td>\n",
       "      <td>ps</td>\n",
       "      <td>0</td>\n",
       "      <td>en</td>\n",
       "    </tr>\n",
       "    <tr>\n",
       "      <th>...</th>\n",
       "      <td>...</td>\n",
       "      <td>...</td>\n",
       "      <td>...</td>\n",
       "      <td>...</td>\n",
       "      <td>...</td>\n",
       "    </tr>\n",
       "    <tr>\n",
       "      <th>23445</th>\n",
       "      <td>chat transcript:visitor: hi, i made a pruchase...</td>\n",
       "      <td>chat</td>\n",
       "      <td>other</td>\n",
       "      <td>1</td>\n",
       "      <td>en</td>\n",
       "    </tr>\n",
       "    <tr>\n",
       "      <th>23446</th>\n",
       "      <td>chat transcript:visitor: hi, how long will it ...</td>\n",
       "      <td>chat</td>\n",
       "      <td>other</td>\n",
       "      <td>1</td>\n",
       "      <td>en</td>\n",
       "    </tr>\n",
       "    <tr>\n",
       "      <th>23447</th>\n",
       "      <td>chat transcript:visitor: i bought playerunknow...</td>\n",
       "      <td>chat</td>\n",
       "      <td>other</td>\n",
       "      <td>1</td>\n",
       "      <td>en</td>\n",
       "    </tr>\n",
       "    <tr>\n",
       "      <th>23448</th>\n",
       "      <td>chat transcript:visitor: good day i took the w...</td>\n",
       "      <td>chat</td>\n",
       "      <td>other</td>\n",
       "      <td>1</td>\n",
       "      <td>en</td>\n",
       "    </tr>\n",
       "    <tr>\n",
       "      <th>23449</th>\n",
       "      <td>chat transcript:visitor: hivisitor: hellovisit...</td>\n",
       "      <td>chat</td>\n",
       "      <td>other</td>\n",
       "      <td>1</td>\n",
       "      <td>en</td>\n",
       "    </tr>\n",
       "  </tbody>\n",
       "</table>\n",
       "<p>16003 rows × 5 columns</p>\n",
       "</div>"
      ],
      "text/plain": [
       "                                             description channel category  \\\n",
       "0      chat transcript:visitor: i want to buy with pa...    chat       ps   \n",
       "1      chat transcript:visitor: hell i had a problem ...    chat       ps   \n",
       "2      chat transcript:visitor: لا استطيع الشراء ومعل...    chat       ps   \n",
       "3      chat transcript:visitor: im having trouble wit...    chat       ps   \n",
       "4      chat transcript:visitor: hiana: hello. how can...    chat       ps   \n",
       "...                                                  ...     ...      ...   \n",
       "23445  chat transcript:visitor: hi, i made a pruchase...    chat    other   \n",
       "23446  chat transcript:visitor: hi, how long will it ...    chat    other   \n",
       "23447  chat transcript:visitor: i bought playerunknow...    chat    other   \n",
       "23448  chat transcript:visitor: good day i took the w...    chat    other   \n",
       "23449  chat transcript:visitor: hivisitor: hellovisit...    chat    other   \n",
       "\n",
       "       category_flag lang  \n",
       "0                  0   en  \n",
       "1                  0   en  \n",
       "2                  0   en  \n",
       "3                  0   en  \n",
       "4                  0   en  \n",
       "...              ...  ...  \n",
       "23445              1   en  \n",
       "23446              1   en  \n",
       "23447              1   en  \n",
       "23448              1   en  \n",
       "23449              1   en  \n",
       "\n",
       "[16003 rows x 5 columns]"
      ]
     },
     "execution_count": 136,
     "metadata": {},
     "output_type": "execute_result"
    }
   ],
   "source": [
    "#getting only en texts\n",
    "SupportDataframe_eng = SupportRawDataframe[SupportRawDataframe.lang == 'en'][:]\n",
    "SupportDataframe_eng"
   ]
  },
  {
   "cell_type": "code",
   "execution_count": 137,
   "metadata": {},
   "outputs": [],
   "source": [
    "#text tekenization\n",
    "tokenization = textToTokens(SupportDataframe_eng.description)\n",
    "SupportDataframe_eng['description'] = tokenization"
   ]
  },
  {
   "cell_type": "code",
   "execution_count": 138,
   "metadata": {},
   "outputs": [
    {
     "data": {
      "text/html": [
       "<div>\n",
       "<style scoped>\n",
       "    .dataframe tbody tr th:only-of-type {\n",
       "        vertical-align: middle;\n",
       "    }\n",
       "\n",
       "    .dataframe tbody tr th {\n",
       "        vertical-align: top;\n",
       "    }\n",
       "\n",
       "    .dataframe thead th {\n",
       "        text-align: right;\n",
       "    }\n",
       "</style>\n",
       "<table border=\"1\" class=\"dataframe\">\n",
       "  <thead>\n",
       "    <tr style=\"text-align: right;\">\n",
       "      <th></th>\n",
       "      <th>description</th>\n",
       "      <th>channel</th>\n",
       "      <th>category</th>\n",
       "      <th>category_flag</th>\n",
       "      <th>lang</th>\n",
       "    </tr>\n",
       "  </thead>\n",
       "  <tbody>\n",
       "    <tr>\n",
       "      <th>0</th>\n",
       "      <td>[chat, transcript:visitor:, i, want, to, buy, ...</td>\n",
       "      <td>chat</td>\n",
       "      <td>ps</td>\n",
       "      <td>0</td>\n",
       "      <td>en</td>\n",
       "    </tr>\n",
       "    <tr>\n",
       "      <th>1</th>\n",
       "      <td>[chat, transcript:visitor:, hell, i, had, a, p...</td>\n",
       "      <td>chat</td>\n",
       "      <td>ps</td>\n",
       "      <td>0</td>\n",
       "      <td>en</td>\n",
       "    </tr>\n",
       "    <tr>\n",
       "      <th>2</th>\n",
       "      <td>[chat, transcript:visitor:, لا, استطيع, الشراء...</td>\n",
       "      <td>chat</td>\n",
       "      <td>ps</td>\n",
       "      <td>0</td>\n",
       "      <td>en</td>\n",
       "    </tr>\n",
       "    <tr>\n",
       "      <th>3</th>\n",
       "      <td>[chat, transcript:visitor:, im, having, troubl...</td>\n",
       "      <td>chat</td>\n",
       "      <td>ps</td>\n",
       "      <td>0</td>\n",
       "      <td>en</td>\n",
       "    </tr>\n",
       "    <tr>\n",
       "      <th>4</th>\n",
       "      <td>[chat, transcript:visitor:, hiana:, hello., ho...</td>\n",
       "      <td>chat</td>\n",
       "      <td>ps</td>\n",
       "      <td>0</td>\n",
       "      <td>en</td>\n",
       "    </tr>\n",
       "    <tr>\n",
       "      <th>...</th>\n",
       "      <td>...</td>\n",
       "      <td>...</td>\n",
       "      <td>...</td>\n",
       "      <td>...</td>\n",
       "      <td>...</td>\n",
       "    </tr>\n",
       "    <tr>\n",
       "      <th>23445</th>\n",
       "      <td>[chat, transcript:visitor:, hi,, i, made, a, p...</td>\n",
       "      <td>chat</td>\n",
       "      <td>other</td>\n",
       "      <td>1</td>\n",
       "      <td>en</td>\n",
       "    </tr>\n",
       "    <tr>\n",
       "      <th>23446</th>\n",
       "      <td>[chat, transcript:visitor:, hi,, how, long, wi...</td>\n",
       "      <td>chat</td>\n",
       "      <td>other</td>\n",
       "      <td>1</td>\n",
       "      <td>en</td>\n",
       "    </tr>\n",
       "    <tr>\n",
       "      <th>23447</th>\n",
       "      <td>[chat, transcript:visitor:, i, bought, playeru...</td>\n",
       "      <td>chat</td>\n",
       "      <td>other</td>\n",
       "      <td>1</td>\n",
       "      <td>en</td>\n",
       "    </tr>\n",
       "    <tr>\n",
       "      <th>23448</th>\n",
       "      <td>[chat, transcript:visitor:, good, day, i, took...</td>\n",
       "      <td>chat</td>\n",
       "      <td>other</td>\n",
       "      <td>1</td>\n",
       "      <td>en</td>\n",
       "    </tr>\n",
       "    <tr>\n",
       "      <th>23449</th>\n",
       "      <td>[chat, transcript:visitor:, hivisitor:, hellov...</td>\n",
       "      <td>chat</td>\n",
       "      <td>other</td>\n",
       "      <td>1</td>\n",
       "      <td>en</td>\n",
       "    </tr>\n",
       "  </tbody>\n",
       "</table>\n",
       "<p>16003 rows × 5 columns</p>\n",
       "</div>"
      ],
      "text/plain": [
       "                                             description channel category  \\\n",
       "0      [chat, transcript:visitor:, i, want, to, buy, ...    chat       ps   \n",
       "1      [chat, transcript:visitor:, hell, i, had, a, p...    chat       ps   \n",
       "2      [chat, transcript:visitor:, لا, استطيع, الشراء...    chat       ps   \n",
       "3      [chat, transcript:visitor:, im, having, troubl...    chat       ps   \n",
       "4      [chat, transcript:visitor:, hiana:, hello., ho...    chat       ps   \n",
       "...                                                  ...     ...      ...   \n",
       "23445  [chat, transcript:visitor:, hi,, i, made, a, p...    chat    other   \n",
       "23446  [chat, transcript:visitor:, hi,, how, long, wi...    chat    other   \n",
       "23447  [chat, transcript:visitor:, i, bought, playeru...    chat    other   \n",
       "23448  [chat, transcript:visitor:, good, day, i, took...    chat    other   \n",
       "23449  [chat, transcript:visitor:, hivisitor:, hellov...    chat    other   \n",
       "\n",
       "       category_flag lang  \n",
       "0                  0   en  \n",
       "1                  0   en  \n",
       "2                  0   en  \n",
       "3                  0   en  \n",
       "4                  0   en  \n",
       "...              ...  ...  \n",
       "23445              1   en  \n",
       "23446              1   en  \n",
       "23447              1   en  \n",
       "23448              1   en  \n",
       "23449              1   en  \n",
       "\n",
       "[16003 rows x 5 columns]"
      ]
     },
     "execution_count": 138,
     "metadata": {},
     "output_type": "execute_result"
    }
   ],
   "source": [
    "SupportDataframe_eng"
   ]
  },
  {
   "cell_type": "code",
   "execution_count": 139,
   "metadata": {},
   "outputs": [],
   "source": [
    "texts = list(SupportDataframe_eng.description)"
   ]
  },
  {
   "cell_type": "code",
   "execution_count": 140,
   "metadata": {},
   "outputs": [],
   "source": [
    "testdf = SupportDataframe_eng.copy()"
   ]
  },
  {
   "cell_type": "markdown",
   "metadata": {},
   "source": [
    "1) Осчистка мусора. Частотный анализ."
   ]
  },
  {
   "cell_type": "markdown",
   "metadata": {},
   "source": [
    " "
   ]
  },
  {
   "cell_type": "code",
   "execution_count": 141,
   "metadata": {},
   "outputs": [
    {
     "data": {
      "text/plain": [
       "0        [chat, transcript:visitor:, i, want, to, buy, ...\n",
       "1        [chat, transcript:visitor:, hell, i, had, a, p...\n",
       "2        [chat, transcript:visitor:, لا, استطيع, الشراء...\n",
       "3        [chat, transcript:visitor:, im, having, troubl...\n",
       "4        [chat, transcript:visitor:, hiana:, hello., ho...\n",
       "                               ...                        \n",
       "23445    [chat, transcript:visitor:, hi,, i, made, a, p...\n",
       "23446    [chat, transcript:visitor:, hi,, how, long, wi...\n",
       "23447    [chat, transcript:visitor:, i, bought, playeru...\n",
       "23448    [chat, transcript:visitor:, good, day, i, took...\n",
       "23449    [chat, transcript:visitor:, hivisitor:, hellov...\n",
       "Name: description, Length: 16003, dtype: object"
      ]
     },
     "execution_count": 141,
     "metadata": {},
     "output_type": "execute_result"
    }
   ],
   "source": [
    "SupportDataframe_eng['description']"
   ]
  },
  {
   "cell_type": "code",
   "execution_count": 142,
   "metadata": {},
   "outputs": [],
   "source": [
    "c = collect.Counter()\n",
    "for bag in SupportDataframe_eng['description']:\n",
    "    for word in bag:\n",
    "        c[word] += 1"
   ]
  },
  {
   "cell_type": "code",
   "execution_count": 143,
   "metadata": {},
   "outputs": [],
   "source": [
    "dictlist = dict(c)"
   ]
  },
  {
   "cell_type": "code",
   "execution_count": 144,
   "metadata": {},
   "outputs": [],
   "source": [
    "diclistsort = sorted(dictlist.items(), key=lambda x: x[1], reverse=True)"
   ]
  },
  {
   "cell_type": "code",
   "execution_count": 183,
   "metadata": {},
   "outputs": [
    {
     "data": {
      "text/plain": [
       "[('the', 107561),\n",
       " ('you', 87781),\n",
       " ('i', 86063),\n",
       " ('to', 78202),\n",
       " ('for', 59021),\n",
       " ('a', 58283),\n",
       " ('your', 48004),\n",
       " ('and', 41004),\n",
       " ('it', 36193),\n",
       " ('thank', 33741),\n",
       " ('please', 29786),\n",
       " ('is', 29596),\n",
       " ('visitor:', 29301),\n",
       " ('have', 28785),\n",
       " ('payment', 27003),\n",
       " ('this', 26480),\n",
       " ('will', 26132),\n",
       " ('with', 22596),\n",
       " ('that', 22257),\n",
       " ('can', 21943),\n",
       " ('in', 21636),\n",
       " ('my', 21210),\n",
       " ('we', 20964),\n",
       " ('not', 20717),\n",
       " ('on', 19675),\n",
       " ('be', 18255),\n",
       " ('of', 17785),\n",
       " ('refund', 16779),\n",
       " ('chat', 16572),\n",
       " ('transcript:visitor:', 15782)]"
      ]
     },
     "execution_count": 183,
     "metadata": {},
     "output_type": "execute_result"
    }
   ],
   "source": [
    "diclistsort[:30]"
   ]
  },
  {
   "cell_type": "code",
   "execution_count": 146,
   "metadata": {},
   "outputs": [],
   "source": [
    "wordlistforclean = [] # Добавление stop_words из библиотеки nltk уменьшило f1-score с 68/90 до 65/92. Убрал.\n",
    "for key in diclistsort[:30]: # Значение 30 - не случайно, получилось так, что хуже и больльше, и меньше. +-5\n",
    "    wordlistforclean.append(key[0])\n",
    "for dic in diclistsort:\n",
    "    if \":\" in dic[0]: # Добавлял все знаки пунктуации из string.punctuation, но становилось хуже. Не понятно почему.\n",
    "            wordlistforclean.append(dic[0])"
   ]
  },
  {
   "cell_type": "code",
   "execution_count": 182,
   "metadata": {},
   "outputs": [
    {
     "data": {
      "text/plain": [
       "['the',\n",
       " 'you',\n",
       " 'i',\n",
       " 'to',\n",
       " 'for',\n",
       " 'a',\n",
       " 'your',\n",
       " 'and',\n",
       " 'it',\n",
       " 'thank',\n",
       " 'please',\n",
       " 'is',\n",
       " 'visitor:',\n",
       " 'have',\n",
       " 'payment',\n",
       " 'this',\n",
       " 'will',\n",
       " 'with',\n",
       " 'that',\n",
       " 'can',\n",
       " 'in',\n",
       " 'my',\n",
       " 'we',\n",
       " 'not',\n",
       " 'on',\n",
       " 'be',\n",
       " 'of',\n",
       " 'refund',\n",
       " 'chat',\n",
       " 'transcript:visitor:']"
      ]
     },
     "execution_count": 182,
     "metadata": {},
     "output_type": "execute_result"
    }
   ],
   "source": [
    "wordlistforclean[:30]"
   ]
  },
  {
   "cell_type": "code",
   "execution_count": 148,
   "metadata": {},
   "outputs": [
    {
     "data": {
      "text/plain": [
       "60567"
      ]
     },
     "execution_count": 148,
     "metadata": {},
     "output_type": "execute_result"
    }
   ],
   "source": [
    "len(wordlistforclean)"
   ]
  },
  {
   "cell_type": "code",
   "execution_count": 149,
   "metadata": {},
   "outputs": [],
   "source": [
    "#newmas = FastClear(SupportDataframe_eng['description'], wordlistforclean)"
   ]
  },
  {
   "cell_type": "code",
   "execution_count": 150,
   "metadata": {},
   "outputs": [
    {
     "name": "stdout",
     "output_type": "stream",
     "text": [
      "Done: 500 out of 16003\n",
      "Done: 1000 out of 16003\n",
      "Done: 1500 out of 16003\n",
      "Done: 2000 out of 16003\n",
      "Done: 2500 out of 16003\n",
      "Done: 3000 out of 16003\n",
      "Done: 3500 out of 16003\n",
      "Done: 4000 out of 16003\n",
      "Done: 4500 out of 16003\n",
      "Done: 5000 out of 16003\n",
      "Done: 5500 out of 16003\n",
      "Done: 6000 out of 16003\n",
      "Done: 6500 out of 16003\n",
      "Done: 7000 out of 16003\n",
      "Done: 7500 out of 16003\n",
      "Done: 8000 out of 16003\n",
      "Done: 8500 out of 16003\n",
      "Done: 9000 out of 16003\n",
      "Done: 9500 out of 16003\n",
      "Done: 10000 out of 16003\n",
      "Done: 10500 out of 16003\n",
      "Done: 11000 out of 16003\n",
      "Done: 11500 out of 16003\n",
      "Done: 12000 out of 16003\n",
      "Done: 12500 out of 16003\n",
      "Done: 13000 out of 16003\n",
      "Done: 13500 out of 16003\n",
      "Done: 14000 out of 16003\n",
      "Done: 14500 out of 16003\n",
      "Done: 15000 out of 16003\n",
      "Done: 15500 out of 16003\n",
      "Done: 16000 out of 16003\n"
     ]
    }
   ],
   "source": [
    "newmas = FastClear2(SupportDataframe_eng['description'], wordlistforclean) # Работает значительно быстрее"
   ]
  },
  {
   "cell_type": "code",
   "execution_count": 151,
   "metadata": {},
   "outputs": [
    {
     "data": {
      "text/html": [
       "<div>\n",
       "<style scoped>\n",
       "    .dataframe tbody tr th:only-of-type {\n",
       "        vertical-align: middle;\n",
       "    }\n",
       "\n",
       "    .dataframe tbody tr th {\n",
       "        vertical-align: top;\n",
       "    }\n",
       "\n",
       "    .dataframe thead th {\n",
       "        text-align: right;\n",
       "    }\n",
       "</style>\n",
       "<table border=\"1\" class=\"dataframe\">\n",
       "  <thead>\n",
       "    <tr style=\"text-align: right;\">\n",
       "      <th></th>\n",
       "      <th>description</th>\n",
       "      <th>channel</th>\n",
       "      <th>category</th>\n",
       "      <th>category_flag</th>\n",
       "      <th>lang</th>\n",
       "    </tr>\n",
       "  </thead>\n",
       "  <tbody>\n",
       "    <tr>\n",
       "      <th>0</th>\n",
       "      <td>{try, ok, request.][visitor, possible?[visitor...</td>\n",
       "      <td>chat</td>\n",
       "      <td>ps</td>\n",
       "      <td>0</td>\n",
       "      <td>en</td>\n",
       "    </tr>\n",
       "    <tr>\n",
       "      <th>1</th>\n",
       "      <td>{hell, .uk, take, his, patience., by, been, cl...</td>\n",
       "      <td>chat</td>\n",
       "      <td>ps</td>\n",
       "      <td>0</td>\n",
       "      <td>en</td>\n",
       "    </tr>\n",
       "    <tr>\n",
       "      <th>2</th>\n",
       "      <td>{وسوف, account, try, purchase., ok, company., ...</td>\n",
       "      <td>chat</td>\n",
       "      <td>ps</td>\n",
       "      <td>0</td>\n",
       "      <td>en</td>\n",
       "    </tr>\n",
       "    <tr>\n",
       "      <th>3</th>\n",
       "      <td>{unable, security, changed, (less, code, than,...</td>\n",
       "      <td>chat</td>\n",
       "      <td>ps</td>\n",
       "      <td>0</td>\n",
       "      <td>en</td>\n",
       "    </tr>\n",
       "    <tr>\n",
       "      <th>4</th>\n",
       "      <td>{becouse, option, ok, purchase., can't, unfort...</td>\n",
       "      <td>chat</td>\n",
       "      <td>ps</td>\n",
       "      <td>0</td>\n",
       "      <td>en</td>\n",
       "    </tr>\n",
       "    <tr>\n",
       "      <th>...</th>\n",
       "      <td>...</td>\n",
       "      <td>...</td>\n",
       "      <td>...</td>\n",
       "      <td>...</td>\n",
       "      <td>...</td>\n",
       "    </tr>\n",
       "    <tr>\n",
       "      <th>23445</th>\n",
       "      <td>{already, currency., ingame, xsolla., you,, si...</td>\n",
       "      <td>chat</td>\n",
       "      <td>other</td>\n",
       "      <td>1</td>\n",
       "      <td>en</td>\n",
       "    </tr>\n",
       "    <tr>\n",
       "      <th>23446</th>\n",
       "      <td>{number, details, delivers, although, out, tak...</td>\n",
       "      <td>chat</td>\n",
       "      <td>other</td>\n",
       "      <td>1</td>\n",
       "      <td>en</td>\n",
       "    </tr>\n",
       "    <tr>\n",
       "      <th>23447</th>\n",
       "      <td>{number, details, digits, game, welcome!, requ...</td>\n",
       "      <td>chat</td>\n",
       "      <td>other</td>\n",
       "      <td>1</td>\n",
       "      <td>en</td>\n",
       "    </tr>\n",
       "    <tr>\n",
       "      <th>23448</th>\n",
       "      <td>{things, take, want, or, you., page, cases, ni...</td>\n",
       "      <td>chat</td>\n",
       "      <td>other</td>\n",
       "      <td>1</td>\n",
       "      <td>en</td>\n",
       "    </tr>\n",
       "    <tr>\n",
       "      <th>23449</th>\n",
       "      <td>{me}</td>\n",
       "      <td>chat</td>\n",
       "      <td>other</td>\n",
       "      <td>1</td>\n",
       "      <td>en</td>\n",
       "    </tr>\n",
       "  </tbody>\n",
       "</table>\n",
       "<p>16003 rows × 5 columns</p>\n",
       "</div>"
      ],
      "text/plain": [
       "                                             description channel category  \\\n",
       "0      {try, ok, request.][visitor, possible?[visitor...    chat       ps   \n",
       "1      {hell, .uk, take, his, patience., by, been, cl...    chat       ps   \n",
       "2      {وسوف, account, try, purchase., ok, company., ...    chat       ps   \n",
       "3      {unable, security, changed, (less, code, than,...    chat       ps   \n",
       "4      {becouse, option, ok, purchase., can't, unfort...    chat       ps   \n",
       "...                                                  ...     ...      ...   \n",
       "23445  {already, currency., ingame, xsolla., you,, si...    chat    other   \n",
       "23446  {number, details, delivers, although, out, tak...    chat    other   \n",
       "23447  {number, details, digits, game, welcome!, requ...    chat    other   \n",
       "23448  {things, take, want, or, you., page, cases, ni...    chat    other   \n",
       "23449                                               {me}    chat    other   \n",
       "\n",
       "       category_flag lang  \n",
       "0                  0   en  \n",
       "1                  0   en  \n",
       "2                  0   en  \n",
       "3                  0   en  \n",
       "4                  0   en  \n",
       "...              ...  ...  \n",
       "23445              1   en  \n",
       "23446              1   en  \n",
       "23447              1   en  \n",
       "23448              1   en  \n",
       "23449              1   en  \n",
       "\n",
       "[16003 rows x 5 columns]"
      ]
     },
     "execution_count": 151,
     "metadata": {},
     "output_type": "execute_result"
    }
   ],
   "source": [
    "SupportDataframe_eng['description'] = newmas\n",
    "SupportDataframe_eng"
   ]
  },
  {
   "cell_type": "markdown",
   "metadata": {},
   "source": [
    "TRAIN TEST SPLIT DATAFRAMES"
   ]
  },
  {
   "cell_type": "code",
   "execution_count": 152,
   "metadata": {},
   "outputs": [
    {
     "data": {
      "text/plain": [
       "array(['other', 'ps'], dtype=object)"
      ]
     },
     "execution_count": 152,
     "metadata": {},
     "output_type": "execute_result"
    }
   ],
   "source": [
    "#list of unique categories\n",
    "unique_categories = np.unique(SupportDataframe_eng.category)\n",
    "unique_categories"
   ]
  },
  {
   "cell_type": "code",
   "execution_count": 153,
   "metadata": {},
   "outputs": [],
   "source": [
    "descriptions = SupportDataframe_eng['description']\n",
    "categories = SupportDataframe_eng['category_flag']\n",
    "XTrain, XTest, YTrain, YTest = train_test_split(descriptions,\n",
    "                                             categories,\n",
    "                                             stratify = categories,\n",
    "                                             test_size = 0.2,\n",
    "                                             random_state = 40)"
   ]
  },
  {
   "cell_type": "markdown",
   "metadata": {},
   "source": [
    "FROM TEXTS TO VECTORS"
   ]
  },
  {
   "cell_type": "code",
   "execution_count": 154,
   "metadata": {},
   "outputs": [],
   "source": [
    "#initialize Word2Vec model for embedding words to vectors\n",
    "NDim = 100\n",
    "Imdb_w2v = Word2Vec(size = NDim,min_count = 10)\n",
    "Imdb_w2v.build_vocab(XTrain)"
   ]
  },
  {
   "cell_type": "code",
   "execution_count": 155,
   "metadata": {},
   "outputs": [
    {
     "data": {
      "text/plain": [
       "(4234460, 4990675)"
      ]
     },
     "execution_count": 155,
     "metadata": {},
     "output_type": "execute_result"
    }
   ],
   "source": [
    "Imdb_w2v.train(XTrain,total_examples = Imdb_w2v.corpus_count,epochs = Imdb_w2v.epochs)"
   ]
  },
  {
   "cell_type": "code",
   "execution_count": 157,
   "metadata": {},
   "outputs": [],
   "source": [
    "#embedding training messages to vectors for neutral classifier\n",
    "TrainVecs = np.concatenate([buildWordVector(i,NDim,Imdb_w2v) for i in XTrain])"
   ]
  },
  {
   "cell_type": "code",
   "execution_count": 158,
   "metadata": {},
   "outputs": [
    {
     "data": {
      "text/plain": [
       "array([[ 0.14945012, -0.13114705,  0.15811513, ...,  0.19292204,\n",
       "         0.27686619, -0.30567972],\n",
       "       [-0.39370041, -0.28547679, -0.4542865 , ...,  0.28220745,\n",
       "        -0.39316901,  0.30580376],\n",
       "       [-0.02244937, -0.24784077, -0.06523112, ...,  0.60024127,\n",
       "         0.13280638,  0.00662808],\n",
       "       ...,\n",
       "       [-0.16215912, -0.38402882, -0.0128114 , ...,  0.6002747 ,\n",
       "         0.20704153,  0.01704032],\n",
       "       [-0.09200615, -0.15433143, -0.47526679, ...,  0.35300308,\n",
       "        -0.45299568,  0.32487484],\n",
       "       [-0.01652371, -0.13890107, -0.09573785, ...,  0.30222286,\n",
       "        -0.08984169,  0.22685772]])"
      ]
     },
     "execution_count": 158,
     "metadata": {},
     "output_type": "execute_result"
    }
   ],
   "source": [
    "TrainVecs"
   ]
  },
  {
   "cell_type": "code",
   "execution_count": 159,
   "metadata": {},
   "outputs": [
    {
     "data": {
      "text/plain": [
       "(1053460, 1247660)"
      ]
     },
     "execution_count": 159,
     "metadata": {},
     "output_type": "execute_result"
    }
   ],
   "source": [
    "Imdb_w2v.train(XTest, total_examples = Imdb_w2v.corpus_count, epochs = Imdb_w2v.epochs)"
   ]
  },
  {
   "cell_type": "code",
   "execution_count": null,
   "metadata": {},
   "outputs": [],
   "source": []
  },
  {
   "cell_type": "code",
   "execution_count": 160,
   "metadata": {},
   "outputs": [],
   "source": [
    "TestVecs = np.concatenate([buildWordVector(i,NDim,Imdb_w2v) for i in XTest])"
   ]
  },
  {
   "cell_type": "code",
   "execution_count": 161,
   "metadata": {},
   "outputs": [
    {
     "data": {
      "text/plain": [
       "array([[-0.31798882, -0.02627644, -0.06597178, ...,  0.23360845,\n",
       "        -0.13001722,  0.3705747 ],\n",
       "       [-0.21056817, -0.23490778, -0.24278507, ...,  0.31622431,\n",
       "         0.02842885,  0.15745146],\n",
       "       [ 0.0843149 , -0.15906107,  0.06388755, ...,  0.26067282,\n",
       "         0.2868574 ,  0.07548145],\n",
       "       ...,\n",
       "       [-0.16428456,  0.01600793, -0.35333041, ...,  0.20413095,\n",
       "        -0.33210903,  0.29116047],\n",
       "       [-0.07162936, -0.2410392 , -0.18013946, ...,  0.20892283,\n",
       "         0.1039358 ,  0.12984777],\n",
       "       [ 0.05553926, -0.14222758,  0.00158601, ...,  0.28762773,\n",
       "         0.3330273 ,  0.13797187]])"
      ]
     },
     "execution_count": 161,
     "metadata": {},
     "output_type": "execute_result"
    }
   ],
   "source": [
    "TestVecs"
   ]
  },
  {
   "cell_type": "markdown",
   "metadata": {},
   "source": [
    "CROSSVALIDATION AND BUILD CLASSIFIER"
   ]
  },
  {
   "cell_type": "markdown",
   "metadata": {},
   "source": [
    "3) Подбор гиперпараметров"
   ]
  },
  {
   "cell_type": "markdown",
   "metadata": {},
   "source": [
    " "
   ]
  },
  {
   "cell_type": "code",
   "execution_count": 162,
   "metadata": {},
   "outputs": [],
   "source": [
    "TextClassifier = MLPClassifier(hidden_layer_sizes = (30,  2), activation = 'tanh', max_iter = 50, random_state = 40) # Подбор гиперпараметров"
   ]
  },
  {
   "cell_type": "code",
   "execution_count": 163,
   "metadata": {},
   "outputs": [
    {
     "name": "stdout",
     "output_type": "stream",
     "text": [
      "[0.88559157 0.88832487 0.8796875  0.8796875  0.88789063]\n",
      "0.8842364127782115\n"
     ]
    }
   ],
   "source": [
    "Scores = cross_val_score(TextClassifier, TrainVecs, YTrain, cv = 5)\n",
    "print(Scores)\n",
    "print(np.mean(Scores))"
   ]
  },
  {
   "cell_type": "code",
   "execution_count": 164,
   "metadata": {},
   "outputs": [
    {
     "data": {
      "text/plain": [
       "MLPClassifier(activation='tanh', alpha=0.0001, batch_size='auto', beta_1=0.9,\n",
       "              beta_2=0.999, early_stopping=False, epsilon=1e-08,\n",
       "              hidden_layer_sizes=(30, 2), learning_rate='constant',\n",
       "              learning_rate_init=0.001, max_fun=15000, max_iter=50,\n",
       "              momentum=0.9, n_iter_no_change=10, nesterovs_momentum=True,\n",
       "              power_t=0.5, random_state=40, shuffle=True, solver='adam',\n",
       "              tol=0.0001, validation_fraction=0.1, verbose=False,\n",
       "              warm_start=False)"
      ]
     },
     "execution_count": 164,
     "metadata": {},
     "output_type": "execute_result"
    }
   ],
   "source": [
    "TextClassifier.fit(TrainVecs, YTrain)"
   ]
  },
  {
   "cell_type": "code",
   "execution_count": 165,
   "metadata": {},
   "outputs": [
    {
     "name": "stdout",
     "output_type": "stream",
     "text": [
      "[[ 496  139]\n",
      " [ 267 2299]]\n",
      "              precision    recall  f1-score   support\n",
      "\n",
      "           0       0.65      0.78      0.71       635\n",
      "           1       0.94      0.90      0.92      2566\n",
      "\n",
      "    accuracy                           0.87      3201\n",
      "   macro avg       0.80      0.84      0.81      3201\n",
      "weighted avg       0.88      0.87      0.88      3201\n",
      "\n"
     ]
    }
   ],
   "source": [
    "pred = TextClassifier.predict(TestVecs)\n",
    "print(confusion_matrix(YTest,pred))\n",
    "print(classification_report(YTest,pred))"
   ]
  },
  {
   "cell_type": "markdown",
   "metadata": {},
   "source": [
    "2) Стратифицированная кросс-валидация"
   ]
  },
  {
   "cell_type": "markdown",
   "metadata": {},
   "source": [
    " "
   ]
  },
  {
   "cell_type": "code",
   "execution_count": 166,
   "metadata": {},
   "outputs": [
    {
     "name": "stdout",
     "output_type": "stream",
     "text": [
      "TRAIN: [  636   637   638 ... 16000 16001 16002] TEST: [   0    1    2 ... 5738 5739 5740]\n",
      "[[ 448  188]\n",
      " [ 148 2417]]\n",
      "              precision    recall  f1-score   support\n",
      "\n",
      "           0       0.75      0.70      0.73       636\n",
      "           1       0.93      0.94      0.94      2565\n",
      "\n",
      "    accuracy                           0.90      3201\n",
      "   macro avg       0.84      0.82      0.83      3201\n",
      "weighted avg       0.89      0.90      0.89      3201\n",
      "\n",
      "TRAIN: [    0     1     2 ... 16000 16001 16002] TEST: [ 636  637  638 ... 8304 8305 8306]\n",
      "[[ 416  219]\n",
      " [ 120 2446]]\n",
      "              precision    recall  f1-score   support\n",
      "\n",
      "           0       0.78      0.66      0.71       635\n",
      "           1       0.92      0.95      0.94      2566\n",
      "\n",
      "    accuracy                           0.89      3201\n",
      "   macro avg       0.85      0.80      0.82      3201\n",
      "weighted avg       0.89      0.89      0.89      3201\n",
      "\n",
      "TRAIN: [    0     1     2 ... 16000 16001 16002] TEST: [ 1271  1272  1273 ... 10870 10871 10872]\n",
      "[[ 391  244]\n",
      " [ 118 2448]]\n",
      "              precision    recall  f1-score   support\n",
      "\n",
      "           0       0.77      0.62      0.68       635\n",
      "           1       0.91      0.95      0.93      2566\n",
      "\n",
      "    accuracy                           0.89      3201\n",
      "   macro avg       0.84      0.78      0.81      3201\n",
      "weighted avg       0.88      0.89      0.88      3201\n",
      "\n",
      "TRAIN: [    0     1     2 ... 16000 16001 16002] TEST: [ 1906  1907  1908 ... 13435 13436 13437]\n",
      "[[ 448  187]\n",
      " [ 227 2338]]\n",
      "              precision    recall  f1-score   support\n",
      "\n",
      "           0       0.66      0.71      0.68       635\n",
      "           1       0.93      0.91      0.92      2565\n",
      "\n",
      "    accuracy                           0.87      3200\n",
      "   macro avg       0.79      0.81      0.80      3200\n",
      "weighted avg       0.87      0.87      0.87      3200\n",
      "\n",
      "TRAIN: [    0     1     2 ... 13435 13436 13437] TEST: [ 2541  2542  2543 ... 16000 16001 16002]\n",
      "[[ 487  148]\n",
      " [ 243 2322]]\n",
      "              precision    recall  f1-score   support\n",
      "\n",
      "           0       0.67      0.77      0.71       635\n",
      "           1       0.94      0.91      0.92      2565\n",
      "\n",
      "    accuracy                           0.88      3200\n",
      "   macro avg       0.80      0.84      0.82      3200\n",
      "weighted avg       0.89      0.88      0.88      3200\n",
      "\n"
     ]
    }
   ],
   "source": [
    "desc = np.concatenate([buildWordVector(i, NDim, Imdb_w2v) for i in descriptions])\n",
    "skf = StratifiedKFold(n_splits=5, random_state=40)\n",
    "for train_index, test_index in skf.split(desc, categories):\n",
    "    print(\"TRAIN:\", train_index, \"TEST:\", test_index)\n",
    "    X_train, X_test = desc[train_index], desc[test_index]\n",
    "    y_train, y_test = categories.iloc[train_index], categories.iloc[test_index]\n",
    "    TextClassifier.fit(X_train, y_train)\n",
    "    pred = TextClassifier.predict(X_test)\n",
    "    print(confusion_matrix(y_test, pred))\n",
    "    print(classification_report(y_test, pred))"
   ]
  },
  {
   "cell_type": "markdown",
   "metadata": {},
   "source": [
    "4) Trying TF-IDF"
   ]
  },
  {
   "cell_type": "markdown",
   "metadata": {},
   "source": [
    " "
   ]
  },
  {
   "cell_type": "code",
   "execution_count": 176,
   "metadata": {},
   "outputs": [],
   "source": [
    "descriptions = SupportDataframe_eng['description']\n",
    "desc = SupportDataframe_eng['description'].apply(lambda x: \" \".join(x))\n",
    "categories = SupportDataframe_eng['category_flag']\n",
    "XTrain, XTest, YTrain, YTest = train_test_split(desc,\n",
    "                                             categories,\n",
    "                                             stratify = categories,\n",
    "                                             test_size = 0.2,\n",
    "                                             random_state = 40)\n",
    "text_clf = Pipeline([\n",
    "                     ('tfidf', TfidfVectorizer()),\n",
    "                     ('clf', MLPClassifier(hidden_layer_sizes = (30,  2), activation = 'tanh', max_iter = 50, random_state = 40))\n",
    "                     ])\n"
   ]
  },
  {
   "cell_type": "code",
   "execution_count": 177,
   "metadata": {},
   "outputs": [
    {
     "data": {
      "text/plain": [
       "Pipeline(memory=None,\n",
       "         steps=[('tfidf',\n",
       "                 TfidfVectorizer(analyzer='word', binary=False,\n",
       "                                 decode_error='strict',\n",
       "                                 dtype=<class 'numpy.float64'>,\n",
       "                                 encoding='utf-8', input='content',\n",
       "                                 lowercase=True, max_df=1.0, max_features=None,\n",
       "                                 min_df=1, ngram_range=(1, 1), norm='l2',\n",
       "                                 preprocessor=None, smooth_idf=True,\n",
       "                                 stop_words=None, strip_accents=None,\n",
       "                                 sublinear_tf=False,\n",
       "                                 token_pattern='...\n",
       "                               batch_size='auto', beta_1=0.9, beta_2=0.999,\n",
       "                               early_stopping=False, epsilon=1e-08,\n",
       "                               hidden_layer_sizes=(30, 2),\n",
       "                               learning_rate='constant',\n",
       "                               learning_rate_init=0.001, max_fun=15000,\n",
       "                               max_iter=50, momentum=0.9, n_iter_no_change=10,\n",
       "                               nesterovs_momentum=True, power_t=0.5,\n",
       "                               random_state=40, shuffle=True, solver='adam',\n",
       "                               tol=0.0001, validation_fraction=0.1,\n",
       "                               verbose=False, warm_start=False))],\n",
       "         verbose=False)"
      ]
     },
     "execution_count": 177,
     "metadata": {},
     "output_type": "execute_result"
    }
   ],
   "source": [
    "text_clf.fit(XTrain, YTrain)"
   ]
  },
  {
   "cell_type": "code",
   "execution_count": 178,
   "metadata": {},
   "outputs": [],
   "source": [
    "#text_clf.fit(desc, list(categories))"
   ]
  },
  {
   "cell_type": "code",
   "execution_count": 179,
   "metadata": {},
   "outputs": [
    {
     "name": "stdout",
     "output_type": "stream",
     "text": [
      "[[ 424  211]\n",
      " [ 171 2395]]\n",
      "              precision    recall  f1-score   support\n",
      "\n",
      "           0       0.71      0.67      0.69       635\n",
      "           1       0.92      0.93      0.93      2566\n",
      "\n",
      "    accuracy                           0.88      3201\n",
      "   macro avg       0.82      0.80      0.81      3201\n",
      "weighted avg       0.88      0.88      0.88      3201\n",
      "\n"
     ]
    }
   ],
   "source": [
    "pred = text_clf.predict(XTest) # Странно. В прошлый раз было f1-score = 0.74 :D\n",
    "print(confusion_matrix(YTest, pred))\n",
    "print(classification_report(YTest,pred))"
   ]
  },
  {
   "cell_type": "code",
   "execution_count": null,
   "metadata": {},
   "outputs": [],
   "source": []
  }
 ],
 "metadata": {
  "kernelspec": {
   "display_name": "Python 3",
   "language": "python",
   "name": "python3"
  },
  "language_info": {
   "codemirror_mode": {
    "name": "ipython",
    "version": 3
   },
   "file_extension": ".py",
   "mimetype": "text/x-python",
   "name": "python",
   "nbconvert_exporter": "python",
   "pygments_lexer": "ipython3",
   "version": "3.7.7"
  }
 },
 "nbformat": 4,
 "nbformat_minor": 4
}
